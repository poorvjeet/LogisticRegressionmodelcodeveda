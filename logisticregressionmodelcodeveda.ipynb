# logistic_regression_nlp.py

import pandas as pd
import numpy as np
import matplotlib.pyplot as plt
from sklearn.model_selection import train_test_split
from sklearn.feature_extraction.text import TfidfVectorizer
from sklearn.linear_model import LogisticRegression
from sklearn.metrics import accuracy_score, classification_report, confusion_matrix

# ---------------------------
# 1. Load Dataset
# ---------------------------
# Example dataset (replace with your own CSV if needed)
data = {
    "text": [
        "I love this product, it is amazing!",
        "Worst experience ever, I hate it",
        "Not bad, could be better",
        "Absolutely fantastic service",
        "Terrible, I will never buy again",
        "I am so happy with the results",
        "This is the worst thing I purchased",
        "Really enjoyed using this, recommend it",
        "Disappointed, waste of money",
        "Excellent quality and performance"
    ],
    "label": [1, 0, 1, 1, 0, 1, 0, 1, 0, 1]  # 1 = Positive, 0 = Negative
}

df = pd.DataFrame(data)

print("Sample Data:")
print(df.head())

# ---------------------------
# 2. Train-Test Split
# ---------------------------
X_train, X_test, y_train, y_test = train_test_split(
    df["text"], df["label"], test_size=0.2, random_state=42
)

# ---------------------------
# 3. Feature Extraction with TF-IDF
# ---------------------------
vectorizer = TfidfVectorizer(stop_words="english")
X_train_tfidf = vectorizer.fit_transform(X_train)
X_test_tfidf = vectorizer.transform(X_test)

# ---------------------------
# 4. Train Logistic Regression
# ---------------------------
model = LogisticRegression(max_iter=1000)
model.fit(X_train_tfidf, y_train)

# ---------------------------
# 5. Evaluation
# ---------------------------
y_pred = model.predict(X_test_tfidf)

print("\n🔹 Accuracy:", accuracy_score(y_test, y_pred))
print("\n🔹 Classification Report:\n", classification_report(y_test, y_pred))

# ---------------------------
# 6. Confusion Matrix
# ---------------------------
cm = confusion_matrix(y_test, y_pred)
plt.figure(figsize=(5, 4))
plt.imshow(cm, cmap="Blues")
plt.title("Confusion Matrix")
plt.colorbar()
plt.xticks([0, 1], ["Negative", "Positive"])
plt.yticks([0, 1], ["Negative", "Positive"])
plt.xlabel("Predicted")
plt.ylabel("Actual")

# Annotate numbers
for i in range(2):
    for j in range(2):
        plt.text(j, i, cm[i, j], ha="center", va="center", color="red", fontsize=14)

plt.show()
